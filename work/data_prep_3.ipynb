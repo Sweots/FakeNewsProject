{
 "cells": [
  {
   "cell_type": "code",
   "execution_count": 11,
   "metadata": {},
   "outputs": [
    {
     "name": "stdout",
     "output_type": "stream",
     "text": [
      "Combined CSV file has been created.\n"
     ]
    }
   ],
   "source": [
    "# load 'p2_processed_chunks' parquets into one dataframe:\n",
    "\n",
    "\n",
    "import dask.dataframe as dd\n",
    "\n",
    "# Path to your directory containing the Parquet files\n",
    "parquet_directory = 'p2_processed_chunks/'\n",
    "\n",
    "# Read all Parquet files into a Dask DataFrame\n",
    "dask_df = dd.read_parquet(parquet_directory + 'part.*.parquet')\n",
    "\n",
    "pandas_df = dask_df.compute()\n",
    "\n",
    "# Save the Pandas DataFrame to a single CSV file\n",
    "output_csv_path = 'p3_post_combined.csv'\n",
    "\n",
    "# drop 'cleaned_content' and 'content':\n",
    "pandas_df.drop(columns=['cleaned_content', 'content'], inplace=True)\n",
    "\n",
    "pandas_df.to_csv(output_csv_path, index=False)\n",
    "\n",
    "print(\"Combined CSV file has been created.\")"
   ]
  },
  {
   "cell_type": "code",
   "execution_count": 12,
   "metadata": {},
   "outputs": [],
   "source": [
    "# Load p3_post_combined.csv:\n",
    "import pandas as pd\n",
    "data = pd.read_csv('p3_post_combined.csv')\n"
   ]
  },
  {
   "cell_type": "code",
   "execution_count": 13,
   "metadata": {},
   "outputs": [
    {
     "name": "stdout",
     "output_type": "stream",
     "text": [
      "type\n",
      "reliable      210264\n",
      "political     187887\n",
      "bias          128563\n",
      "fake          101463\n",
      "conspiracy     93969\n",
      "rumor          54084\n",
      "unknown        42062\n",
      "unreliable     31554\n",
      "clickbait      26470\n",
      "junksci        13589\n",
      "satire         12711\n",
      "hate            8467\n",
      "Name: count, dtype: int64\n"
     ]
    }
   ],
   "source": [
    "# Let's separate the data into fake, junk, and real news. We use \"type\" column to do this.\n",
    "# We print every type and the number of articles in that type:\n",
    "print(data['type'].value_counts())"
   ]
  },
  {
   "cell_type": "code",
   "execution_count": 14,
   "metadata": {},
   "outputs": [
    {
     "name": "stdout",
     "output_type": "stream",
     "text": [
      "Fake news: 332462\n",
      "Junk news: 125697\n",
      "Real news: 398151\n"
     ]
    }
   ],
   "source": [
    "# Fake news will be all news that are bias, fake, conspiracy, hate\n",
    "fake_news = data[(data['type'] == 'bias') | (data['type'] == 'fake') | (data['type'] == 'conspiracy') | (data['type'] == 'hate')]\n",
    "# Junk news will be all news that are rumor, clickbait, junksci, unreliable\n",
    "junk_news = data[(data['type'] == 'rumor') | (data['type'] == 'clickbait') | (data['type'] == 'junksci') | (data['type'] == 'unreliable')]\n",
    "# real news are reliable and political:\n",
    "real_news = data[(data['type'] == 'reliable') | (data['type'] == 'political')]\n",
    "# The rest (unknown, satire) will be ignored as they are not clearly fake or real news and may pollute the data.\n",
    "\n",
    "# We print the number of articles in each type:\n",
    "print('Fake news:', len(fake_news))\n",
    "print('Junk news:', len(junk_news))\n",
    "print('Real news:', len(real_news))"
   ]
  },
  {
   "cell_type": "code",
   "execution_count": 15,
   "metadata": {},
   "outputs": [
    {
     "name": "stdout",
     "output_type": "stream",
     "text": [
      "nan\n",
      "nan\n",
      "nan\n",
      "nan\n",
      "Fake news vocabulary size: 497362\n",
      "Junk news vocabulary size: 241347\n",
      "Real news vocabulary size: 522322\n"
     ]
    }
   ],
   "source": [
    "# Calculate the vocabulary size of each type:\n",
    "\n",
    "from collections import Counter\n",
    "\n",
    "def compute_vocabulary(data):\n",
    "    vocabulary = Counter()\n",
    "    for text in data['tokens']:\n",
    "        #if text is a float, print it:\n",
    "        if isinstance(text, float):\n",
    "            print(text)\n",
    "            # this is nan, so we skip it\n",
    "            continue\n",
    "        words = text.split()\n",
    "        vocabulary.update(words)\n",
    "    return vocabulary\n",
    "\n",
    "fake_vocabulary = compute_vocabulary(fake_news)\n",
    "junk_vocabulary = compute_vocabulary(junk_news)\n",
    "real_vocabulary = compute_vocabulary(real_news)\n",
    "\n",
    "print('Fake news vocabulary size:', len(fake_vocabulary))\n",
    "print('Junk news vocabulary size:', len(junk_vocabulary))\n",
    "print('Real news vocabulary size:', len(real_vocabulary))"
   ]
  },
  {
   "cell_type": "code",
   "execution_count": 16,
   "metadata": {},
   "outputs": [
    {
     "name": "stdout",
     "output_type": "stream",
     "text": [
      "Fake news: [('.', 7255613), (',', 7241601), ('<num>', 2437505), ('\"', 2405359), (\"'\", 2181362), ('-', 1588930), (':', 815113), (')', 738522), ('(', 723807), ('?', 385315)]\n",
      "Junk news: [('.', 2108238), (',', 1969142), ('<num>', 937232), ('-', 888033), ('\"', 754875), (\"'\", 706942), (':', 234206), (')', 194784), ('(', 189294), ('said', 129706)]\n",
      "Real news: [('.', 12768889), (',', 11636256), (\"'\", 5108210), ('<num>', 4070410), ('\"', 3822071), ('-', 3111312), (':', 1109332), (')', 864812), ('(', 857450), ('said', 843825)]\n"
     ]
    }
   ],
   "source": [
    "# Print the 10 most common words in each type:\n",
    "print('Fake news:', fake_vocabulary.most_common(10))\n",
    "print('Junk news:', junk_vocabulary.most_common(10))\n",
    "print('Real news:', real_vocabulary.most_common(10))"
   ]
  },
  {
   "cell_type": "code",
   "execution_count": 1,
   "metadata": {},
   "outputs": [
    {
     "ename": "NameError",
     "evalue": "name 'compute_vocabulary' is not defined",
     "output_type": "error",
     "traceback": [
      "\u001b[1;31m---------------------------------------------------------------------------\u001b[0m",
      "\u001b[1;31mNameError\u001b[0m                                 Traceback (most recent call last)",
      "Cell \u001b[1;32mIn[1], line 1\u001b[0m\n\u001b[1;32m----> 1\u001b[0m data_vocabulary \u001b[38;5;241m=\u001b[39m \u001b[43mcompute_vocabulary\u001b[49m(data)\n\u001b[0;32m      2\u001b[0m rare_words \u001b[38;5;241m=\u001b[39m [word \u001b[38;5;28;01mfor\u001b[39;00m word, count \u001b[38;5;129;01min\u001b[39;00m data_vocabulary\u001b[38;5;241m.\u001b[39mitems() \u001b[38;5;28;01mif\u001b[39;00m count \u001b[38;5;241m<\u001b[39m \u001b[38;5;241m5\u001b[39m]\n",
      "\u001b[1;31mNameError\u001b[0m: name 'compute_vocabulary' is not defined"
     ]
    }
   ],
   "source": [
    "data_vocabulary = compute_vocabulary(data)\n",
    "rare_words = [word for word, count in data_vocabulary.items() if count < 5]"
   ]
  },
  {
   "cell_type": "code",
   "execution_count": 2,
   "metadata": {},
   "outputs": [
    {
     "name": "stdout",
     "output_type": "stream",
     "text": [
      "Read data\n",
      "nan\n",
      "nan\n",
      "nan\n",
      "nan\n",
      "Number of words with less than 5 occurances: 764031\n",
      "Total vocabulary size: 998495\n",
      "Rich tokens have been created.\n"
     ]
    }
   ],
   "source": [
    "# Count how many words in the whole dataset have less than 5 occurances:\n",
    "import pandas as pd\n",
    "data = pd.read_csv('p3_post_combined.csv')\n",
    "print(\"Read data\")\n",
    "\n",
    "from collections import Counter\n",
    "\n",
    "\n",
    "def compute_vocabulary(data):\n",
    "    vocabulary = Counter()\n",
    "    for text in data['tokens']:\n",
    "        if isinstance(text, float):\n",
    "            print(text)\n",
    "            continue\n",
    "        words = text.split()\n",
    "        vocabulary.update(words)\n",
    "    return vocabulary\n",
    "\n",
    "data_vocabulary = compute_vocabulary(data)\n",
    "rare_words = [word for word, count in data_vocabulary.items() if count < 5]\n",
    "\n",
    "print('Number of words with less than 5 occurances:', len(rare_words))\n",
    "print(\"Total vocabulary size:\", len(data_vocabulary))\n",
    "\n",
    "# Since the above will take too long, we're gonna use dask on the parquets. We'll load the parquets and then apply the function to them:\n",
    "from dask.distributed import Client, LocalCluster\n",
    "cluster = LocalCluster(n_workers=16, threads_per_worker=1, memory_limit='4GB')\n",
    "client = Client(cluster)\n",
    "\n",
    "\n",
    "import dask.dataframe as dd\n",
    "\n",
    "# Path to your directory containing the Parquet files\n",
    "parquet_directory = 'p2_processed_chunks/'\n",
    "\n",
    "# Read all Parquet files into a Dask DataFrame\n",
    "dask_df = dd.read_parquet(parquet_directory + 'part.*.parquet')\n",
    "\n",
    "# Create new column for tokens without rare words called rich_tokens:\n",
    "def remove_rare_words(tokens, rare):\n",
    "    words = tokens.split()\n",
    "    words = [word for word in words if word not in rare]\n",
    "    return ' '.join(words)\n",
    "\n",
    "# Load the rare words:\n",
    "#rare_words = pd.read_csv('rare_words.csv')['rare_words'].tolist()\n",
    "rare_words_set = set(rare_words)\n",
    "\n",
    "# Apply the function to the dask dataframe:\n",
    "dask_df['rich_tokens'] = dask_df['tokens'].apply(remove_rare_words, rare=rare_words_set, meta=('tokens', 'str'))\n",
    "\n",
    "# Save the dask dataframe to a new parquet:\n",
    "dask_df.to_parquet('p4_rich_tokens.parquet')\n",
    "\n",
    "print(\"Rich tokens have been created.\")\n",
    "\n",
    "\n"
   ]
  },
  {
   "cell_type": "code",
   "execution_count": 3,
   "metadata": {},
   "outputs": [
    {
     "name": "stdout",
     "output_type": "stream",
     "text": [
      "Rich vocabulary size: 234464\n"
     ]
    }
   ],
   "source": [
    "# Look at rich tokens:\n",
    "import pandas as pd\n",
    "rich_data = pd.read_parquet('p4_rich_tokens.parquet')\n",
    "\n",
    "# Calculate the vocabulary size of each type:\n",
    "\n",
    "from collections import Counter\n",
    "\n",
    "def compute_vocabulary(data):\n",
    "    vocabulary = Counter()\n",
    "    for text in data['rich_tokens']:\n",
    "        if isinstance(text, float):\n",
    "            print(text)\n",
    "            continue\n",
    "        words = text.split()\n",
    "        vocabulary.update(words)\n",
    "    return vocabulary\n",
    "\n",
    "rich_vocabulary = compute_vocabulary(rich_data)\n",
    "\n",
    "print('Rich vocabulary size:', len(rich_vocabulary))\n"
   ]
  },
  {
   "cell_type": "code",
   "execution_count": 4,
   "metadata": {},
   "outputs": [
    {
     "name": "stdout",
     "output_type": "stream",
     "text": [
      "Fake news: 332462\n",
      "Junk news: 125697\n",
      "Real news: 398151\n",
      "Fake news vocabulary size: 183323\n",
      "Junk news vocabulary size: 118716\n",
      "Real news vocabulary size: 195324\n"
     ]
    }
   ],
   "source": [
    "# Now we can calculate the vocabulary size of each type:\n",
    "fake_news = rich_data[(rich_data['type'] == 'bias') | (rich_data['type'] == 'fake') | (rich_data['type'] == 'conspiracy') | (rich_data['type'] == 'hate')]\n",
    "junk_news = rich_data[(rich_data['type'] == 'rumor') | (rich_data['type'] == 'clickbait') | (rich_data['type'] == 'junksci') | (rich_data['type'] == 'unreliable')]\n",
    "real_news = rich_data[(rich_data['type'] == 'reliable') | (rich_data['type'] == 'political')]\n",
    "print('Fake news:', len(fake_news))\n",
    "print('Junk news:', len(junk_news))\n",
    "print('Real news:', len(real_news))\n",
    "\n",
    "fake_vocabulary = compute_vocabulary(fake_news)\n",
    "junk_vocabulary = compute_vocabulary(junk_news)\n",
    "real_vocabulary = compute_vocabulary(real_news)\n",
    "\n",
    "print('Fake news vocabulary size:', len(fake_vocabulary))\n",
    "print('Junk news vocabulary size:', len(junk_vocabulary))\n",
    "print('Real news vocabulary size:', len(real_vocabulary))"
   ]
  },
  {
   "cell_type": "code",
   "execution_count": 6,
   "metadata": {},
   "outputs": [
    {
     "name": "stdout",
     "output_type": "stream",
     "text": [
      "Fake news: [('one', 347971), ('state', 307130), ('peopl', 304522), ('would', 291831), ('us', 290676), ('year', 283230), ('said', 276242), ('time', 273653), ('$', 258625), ('like', 253604)]\n",
      "Junk news: [('use', 119204), ('year', 108713), ('system', 106577), ('one', 102887), ('also', 94841), ('?', 93971), ('like', 91208), ('/', 88477), ('tor', 86742), ('would', 86662)]\n",
      "Real news: [('new', 599082), ('one', 547153), ('year', 529576), ('time', 524621), ('mr', 490829), ('would', 447642), ('state', 436731), ('$', 427922), ('?', 422172), ('peopl', 402586)]\n"
     ]
    }
   ],
   "source": [
    "# Print the 20 (minus the first 10) most common words in each type:\n",
    "print('Fake news:', fake_vocabulary.most_common(20)[10:])\n",
    "print('Junk news:', junk_vocabulary.most_common(20)[10:])\n",
    "print('Real news:', real_vocabulary.most_common(20)[10:])\n"
   ]
  },
  {
   "cell_type": "markdown",
   "metadata": {},
   "source": [
    "<h1>First analysis!</h1>"
   ]
  },
  {
   "cell_type": "code",
   "execution_count": 26,
   "metadata": {},
   "outputs": [
    {
     "name": "stdout",
     "output_type": "stream",
     "text": [
      "Most likely fake news words:\n",
      "[('ammoland', 213.34094336882325), ('sheepl', 175.24113048614342), ('blockchain', 105.18846984428848), ('sputnik', 72.70702112336573), ('pravda', 68.83435256448254), ('ufo', 64.54119557809828), ('bookmark', 45.316251932551694), ('bitcoin', 27.801544222595535), ('queri', 18.172734946076947), ('rt', 14.870072945346847)]\n",
      "Most likely real news words:\n",
      "[('yazd', 0.0001556263257496703), ('davar', 0.00015565160946518723), ('alfoneh', 0.00019433718733369312), ('aftab', 0.0003111010477270166), ('nowruz', 0.0005055556188318544), ('safavi', 0.0005059334876487378), ('gholam', 0.0006614118844360989), ('kayhan', 0.0007386491212880332), ('rec', 0.0009263020151454162), ('sayyari', 0.0022183958449135087)]\n"
     ]
    }
   ],
   "source": [
    "# For every word we want to compare the frequency of the word in fake news to the frequency of the word in real news.\n",
    "\n",
    "\n",
    "# Calculate the frequency of each word that have more than 250 occurances in the whole dataset:\n",
    "frequent_words = {word: count for word, count in data_vocabulary.items() if count > 10000}\n",
    "\n",
    "# Calculate the frequency of each word in each type:\n",
    "fake_richer_frequencies = {word: count for word, count in fake_vocabulary.items() if word in frequent_words}\n",
    "junk_richer_frequencies = {word: count for word, count in junk_vocabulary.items() if word in frequent_words}\n",
    "real_richer_frequencies = {word: count for word, count in real_vocabulary.items() if word in frequent_words}\n",
    "\n",
    "\n",
    "# Calculate the ratio of the frequency of the word in fake news to the frequency of the word in real news:\n",
    "#word_ratios = {word: fake_richer_frequencies[word] / real_richer_frequencies[word] for word in frequent_words if real_richer_frequencies[word] > 0}\n",
    "# only calculate if word is in real_richer_frequencies:\n",
    "\n",
    "\n",
    "word_ratios = {}\n",
    "for word in frequent_words:\n",
    "    if word in real_richer_frequencies and word in fake_richer_frequencies:\n",
    "        #word_ratios[word] = fake_richer_frequencies[word] / real_richer_frequencies[word]\n",
    "        # the above doesn't account for the different sizes of the datasets, so we'll use the following:\n",
    "        word_ratios[word] = (fake_richer_frequencies[word] / len(fake_news)) / (real_richer_frequencies[word] / len(real_news))\n",
    "\n",
    "\n",
    "# Print the 10 words with the highest ratio:\n",
    "print(\"Most likely fake news words:\")\n",
    "print(sorted(word_ratios.items(), key=lambda x: x[1], reverse=True)[:10])\n",
    "\n",
    "# Print the 10 words with the lowest ratio:\n",
    "print(\"Most likely real news words:\")\n",
    "print(sorted(word_ratios.items(), key=lambda x: x[1])[:10])\n"
   ]
  },
  {
   "cell_type": "code",
   "execution_count": 43,
   "metadata": {},
   "outputs": [
    {
     "data": {
      "image/png": "[encoded data removed]",
      "text/plain": [
       "<Figure size 1500x1000 with 1 Axes>"
      ]
     },
     "metadata": {},
     "output_type": "display_data"
    }
   ],
   "source": [
    "# Matplot lib the two:\n",
    "import matplotlib.pyplot as plt\n",
    "\n",
    "# Sort the words by their ratio:\n",
    "sorted_ratios = sorted(word_ratios.items(), key=lambda x: x[1])\n",
    "\n",
    "# Get the 10 most likely fake news words:\n",
    "\n",
    "fake_words = sorted_ratios[-15:]\n",
    "\n",
    "# Plot:\n",
    "plt.figure(figsize=(15, 10))\n",
    "plt.barh([word for word, ratio in fake_words], [ratio for word, ratio in fake_words])\n",
    "\n",
    "plt.title('Most likely fake news words (Logarithmic Scale)')\n",
    "plt.xlabel('Ratio')\n",
    "plt.ylabel('Word')\n",
    "plt.show()\n"
   ]
  },
  {
   "cell_type": "markdown",
   "metadata": {},
   "source": []
  },
  {
   "cell_type": "code",
   "execution_count": 84,
   "metadata": {},
   "outputs": [
    {
     "name": "stdout",
     "output_type": "stream",
     "text": [
      "Fake domains: 271\n",
      "Junk domains: 77\n",
      "Real domains: 134\n"
     ]
    }
   ],
   "source": [
    "# most fake domains, and most real domains:\n",
    "\n",
    "# Calculate the frequency of each domain in each type:\n",
    "import re\n",
    "\n",
    "\n",
    "fake_domains = fake_news['domain'].value_counts()\n",
    "junk_domains = junk_news['domain'].value_counts()\n",
    "real_domains = real_news['domain'].value_counts()\n",
    "\n",
    "print('Fake domains:', len(fake_domains))\n",
    "print('Junk domains:', len(junk_domains))\n",
    "print('Real domains:', len(real_domains))\n",
    "\n",
    "# take only the base. So remove the www. and the .com, and any get parameters, as well as anything else.\n",
    "# i.e., stuff like \"www.old.cnn.com/articles/category?=news#top\" should be \"cnn.com\"\n",
    "pattern = r'(?:www\\.)?([^/]+)\\..*'\t# match the domain name\n",
    "\n",
    "def clean_domain(domain):\n",
    "    match = re.match(pattern, domain)\n",
    "    if match:\n",
    "        return match.group(1)\n",
    "    else:\n",
    "        print(\"No match for\", domain)\n",
    "    return domain\n",
    "\n",
    "fake_domains.index = fake_domains.index.map(clean_domain)\n",
    "junk_domains.index = junk_domains.index.map(clean_domain)\n",
    "real_domains.index = real_domains.index.map(clean_domain)\n",
    "\n",
    "\n",
    "# Calculate the ratio of the frequency of the domain in fake news to the frequency of the domain in real news:\n",
    "domain_ratios = {}\n",
    "\n",
    "for domain in set(fake_domains.index) | set(real_domains.index):\n",
    "    fake_count_series = fake_domains.loc[[domain]] if domain in fake_domains.index else pd.Series([0])\n",
    "    real_count_series = real_domains.loc[[domain]] if domain in real_domains.index else pd.Series([0])\n",
    "    fake_count = fake_count_series.iloc[0] if not fake_count_series.empty else 0\n",
    "    real_count = real_count_series.iloc[0] if not real_count_series.empty else 0\n",
    "    if real_count > 0 and fake_count > 0:\n",
    "        #print(\"Domain:\", domain, \"Fake count:\", fake_count, \"Real count:\", real_count)\n",
    "        domain_ratios[domain] = fake_count / real_count\n",
    "    #else:\n",
    "        #print(domain, fake_count, real_count)\n",
    "\n"
   ]
  },
  {
   "cell_type": "code",
   "execution_count": 91,
   "metadata": {},
   "outputs": [
    {
     "name": "stderr",
     "output_type": "stream",
     "text": [
      "c:\\.KU\\Grundlæggende Data Science\\Eksamen\\.venv\\lib\\site-packages\\distributed\\node.py:182: UserWarning: Port 8787 is already in use.\n",
      "Perhaps you already have a cluster running?\n",
      "Hosting the HTTP server on port 55027 instead\n",
      "  warnings.warn(\n",
      "C:\\Program Files\\WindowsApps\\PythonSoftwareFoundation.Python.3.10_3.10.2032.0_x64__qbz5n2kfra8p0\\lib\\contextlib.py:142: UserWarning: Creating scratch directories is taking a surprisingly long time. (2.01s) This is often due to running workers on a network file system. Consider specifying a local-directory to point workers to write scratch data to a local disk.\n",
      "  next(self.gen)\n"
     ]
    },
    {
     "name": "stdout",
     "output_type": "stream",
     "text": [
      "Fake news entropy: 4.4463662655549765\n",
      "Real news entropy: 4.535503524672251\n"
     ]
    }
   ],
   "source": [
    "# Average entropy of fake news urls and real news urls:\n",
    "import numpy as np\n",
    "from scipy.stats import entropy\n",
    "\n",
    "#dask:\n",
    "import dask.dataframe as dd\n",
    "\n",
    "# client:\n",
    "from dask.distributed import Client, LocalCluster\n",
    "cluster = LocalCluster(n_workers=16, threads_per_worker=1, memory_limit='4GB')\n",
    "client = Client(cluster)\n",
    "\n",
    "def calculate_entropy(url):\n",
    "    \"\"\"Calculate the Shannon entropy of a string.\"\"\"\n",
    "    # Count the frequency of each character in the URL\n",
    "    char_counts = np.array(list(map(url.count, set(url))))\n",
    "    # Calculate the probabilities for each unique character\n",
    "    probabilities = char_counts / char_counts.sum()\n",
    "    # Calculate and return the Shannon entropy\n",
    "    entropy = -np.sum(probabilities * np.log2(probabilities))\n",
    "    return entropy\n",
    "\n",
    "def calculate_avg_entropy(data):\n",
    "    \"\"\"Calculate the average entropy of the URLs in the dataset.\"\"\"\n",
    "    # Calculate the entropy of each URL\n",
    "    entropies = data['url'].apply(calculate_entropy)\n",
    "    # Calculate the average entropy\n",
    "    #avg_entropy = entropies.mean().compute()\n",
    "    #no attribute compute() for dask dataframe:\n",
    "    avg_entropy = entropies.mean()\n",
    "    return avg_entropy\n",
    "\n",
    "\n",
    "fake_entropy = calculate_avg_entropy(fake_news)\n",
    "print('Fake news entropy:', fake_entropy)\n",
    "real_entropy = calculate_avg_entropy(real_news)\n",
    "print('Real news entropy:', real_entropy)\n"
   ]
  },
  {
   "cell_type": "markdown",
   "metadata": {},
   "source": [
    "above is not interesting."
   ]
  },
  {
   "cell_type": "code",
   "execution_count": 99,
   "metadata": {},
   "outputs": [
    {
     "name": "stdout",
     "output_type": "stream",
     "text": [
      "Fake news punctuation: Counter({'.': 7255613, ',': 7241601, '\"': 2405359, \"'\": 2181362, ':': 815113, ')': 738522, '(': 723807, '?': 385315, '!': 219442, ';': 149601, ']': 126003, '[': 125935, '{': 12164, '}': 12161})\n",
      "Real news punctuation: Counter({'.': 12768889, ',': 11636256, \"'\": 5108210, '\"': 3822071, ':': 1109332, ')': 864812, '(': 857450, '?': 422172, ';': 318531, '!': 164639, '[': 105898, ']': 105876, '{': 2182, '}': 2180})\n"
     ]
    }
   ],
   "source": [
    "# Differences in punctuation usage between fake news and real news.\n",
    "# We will only be looking at the following punctuation marks: . , ! ? : ; \" ' ( ) [ ] { }\n",
    "\n",
    "# Calculate the frequency of each punctuation mark in each type:\n",
    "def count_punctuation(data):\n",
    "    punctuation = Counter()\n",
    "    for text in data['tokens']:\n",
    "        if isinstance(text, float):\n",
    "            print(text)\n",
    "            continue\n",
    "        for char in text:\n",
    "            if char in '.,!?;:\"\\'()[]{}':\n",
    "                punctuation[char] += 1\n",
    "    return punctuation\n",
    "\n",
    "fake_punctuation = count_punctuation(fake_news)\n",
    "print('Fake news punctuation:', fake_punctuation)\n",
    "real_punctuation = count_punctuation(real_news)\n",
    "print('Real news punctuation:', real_punctuation)\n",
    "\n",
    "# Calculate the ratio of the frequency of the punctuation mark in fake news to the frequency of the punctuation mark in real news:\n",
    "#punctuation_ratios = {char: fake_punctuation[char] / real_punctuation[char] for char in fake_punctuation if real_punctuation[char] > 0}\n",
    "# compensate for different sizes of the datasets:\n",
    "punctuation_ratios = {char: (fake_punctuation[char] / len(fake_news)) / (real_punctuation[char] / len(real_news)) for char in fake_punctuation if real_punctuation[char] > 0}\n",
    "\n"
   ]
  },
  {
   "cell_type": "code",
   "execution_count": 94,
   "metadata": {},
   "outputs": [
    {
     "name": "stdout",
     "output_type": "stream",
     "text": [
      "Fake news sentence length: 12.231049688572387\n",
      "Real news sentence length: 11.15541190270877\n"
     ]
    }
   ],
   "source": [
    "# Average sentence length of fake news and real news:\n",
    "# We will define a sentence as a sequence of words that ends with a period, question mark, or exclamation point.\n",
    "# We will calculate the average number of words in each sentence for fake news and real news.\n",
    "\n",
    "# Calculate the average sentence length of the text:\n",
    "def calculate_avg_sentence_length(data):\n",
    "    sentence_lengths = []\n",
    "    for text in data['tokens']:\n",
    "        if isinstance(text, float):\n",
    "            print(text)\n",
    "            continue\n",
    "        sentences = re.split(r'[.!?]', text)\n",
    "        sentence_lengths.extend([len(sentence.split()) for sentence in sentences if sentence])\n",
    "    return sum(sentence_lengths) / len(sentence_lengths)\n",
    "\n",
    "fake_sentence_length = calculate_avg_sentence_length(fake_news)\n",
    "print('Fake news sentence length:', fake_sentence_length)\n",
    "real_sentence_length = calculate_avg_sentence_length(real_news)\n",
    "print('Real news sentence length:', real_sentence_length)\n"
   ]
  },
  {
   "cell_type": "code",
   "execution_count": 108,
   "metadata": {},
   "outputs": [
    {
     "name": "stdout",
     "output_type": "stream",
     "text": [
      "Most likely fake news punctuation:\n",
      "[('}', 6.680648045642687), ('{', 6.676171168630033), ('!', 1.596220304580892), (']', 1.4252437911974256), ('[', 1.4241786998806336), ('?', 1.0930305179853208), (')', 1.0226982849433224), ('(', 1.0109269441282251), (':', 0.8799582683651983), ('\"', 0.7536799315415555)]\n",
      "Most likely real news punctuation:\n",
      "[(\"'\", 1.9553981587878282), (';', 1.7779167061151528), ('.', 1.4695122261647136), (',', 1.3417539340027476), ('\"', 1.3268231753957258), (':', 1.1364175279105193), ('(', 0.9891911634251197), (')', 0.9778054923162599), ('?', 0.9148875384039641), ('[', 0.7021590760231242)]\n"
     ]
    }
   ],
   "source": [
    "# Print the 10 punctuation marks with the highest ratio:\n",
    "print(\"Most likely fake news punctuation:\")\n",
    "print(sorted(punctuation_ratios.items(), key=lambda x: x[1], reverse=True)[:10])\n",
    "\n",
    "# Print the 10 punctuation marks with the lowest ratio:\n",
    "print(\"Most likely real news punctuation:\")\n",
    "#print(sorted(punctuation_ratios.items(), key=lambda x: x[1])[:10])\n",
    "# take reciprocal when printing:\n",
    "sorted_items = sorted(punctuation_ratios.items(), key=lambda x: x[1])[:10]\n",
    "# Now, transform each item by taking the reciprocal of the ratio.\n",
    "reciprocals = [(key, 1/value) for key, value in sorted_items]\n",
    "# Finally, print the transformed list.\n",
    "print(reciprocals)"
   ]
  },
  {
   "cell_type": "code",
   "execution_count": 109,
   "metadata": {},
   "outputs": [
    {
     "name": "stdout",
     "output_type": "stream",
     "text": [
      "Fake news entropy: 4.193827472606866\n",
      "Real news entropy: 4.2866780691085875\n"
     ]
    }
   ],
   "source": [
    "# Average text entropy of the rich tokens of fake news and real news:\n",
    "# Calculate the average entropy of the text in each type:\n",
    "def calculate_entropy(text):\n",
    "    \"\"\"Calculate the Shannon entropy of a string.\"\"\"\n",
    "    # Count the frequency of each character in the text\n",
    "    char_counts = np.array(list(map(text.count, set(text))))\n",
    "    # Calculate the probabilities for each unique character\n",
    "    probabilities = char_counts / char_counts.sum()\n",
    "    # Calculate and return the Shannon entropy\n",
    "    entropy = -np.sum(probabilities * np.log2(probabilities))\n",
    "    return entropy\n",
    "\n",
    "def calculate_avg_entropy(data):\n",
    "    \"\"\"Calculate the average entropy of the text in the dataset.\"\"\"\n",
    "    # Calculate the entropy of each text\n",
    "    entropies = data['rich_tokens'].apply(calculate_entropy)\n",
    "    # Calculate the average entropy\n",
    "    avg_entropy = entropies.mean()\n",
    "    return avg_entropy\n",
    "\n",
    "\n",
    "fake_entropy = calculate_avg_entropy(fake_news)\n",
    "print('Fake news entropy:', fake_entropy)\n",
    "real_entropy = calculate_avg_entropy(real_news)\n",
    "print('Real news entropy:', real_entropy)"
   ]
  }
 ],
 "metadata": {
  "kernelspec": {
   "display_name": ".venv",
   "language": "python",
   "name": "python3"
  },
  "language_info": {
   "codemirror_mode": {
    "name": "ipython",
    "version": 3
   },
   "file_extension": ".py",
   "mimetype": "text/x-python",
   "name": "python",
   "nbconvert_exporter": "python",
   "pygments_lexer": "ipython3",
   "version": "3.10.7"
  }
 },
 "nbformat": 4,
 "nbformat_minor": 2
}
